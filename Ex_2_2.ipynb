{
 "cells": [
  {
   "cell_type": "code",
   "execution_count": 1,
   "id": "2a46923c",
   "metadata": {},
   "outputs": [],
   "source": [
    "import numpy as np\n",
    "import pandas as pd\n",
    "import matplotlib.pyplot as plt\n",
    "from iminuit import Minuit\n",
    "from scipy import stats"
   ]
  },
  {
   "cell_type": "code",
   "execution_count": 2,
   "id": "da93530f",
   "metadata": {},
   "outputs": [],
   "source": [
    "Nbins = 30\n",
    "xmin  = 9.35\n",
    "xmax  = 10.05\n",
    "binwidth = (xmax - xmin)/Nbins"
   ]
  },
  {
   "cell_type": "code",
   "execution_count": 3,
   "id": "7ebbf9ce",
   "metadata": {},
   "outputs": [
    {
     "data": {
      "text/html": [
       "<div>\n",
       "<style scoped>\n",
       "    .dataframe tbody tr th:only-of-type {\n",
       "        vertical-align: middle;\n",
       "    }\n",
       "\n",
       "    .dataframe tbody tr th {\n",
       "        vertical-align: top;\n",
       "    }\n",
       "\n",
       "    .dataframe thead th {\n",
       "        text-align: right;\n",
       "    }\n",
       "</style>\n",
       "<table border=\"1\" class=\"dataframe\">\n",
       "  <thead>\n",
       "    <tr style=\"text-align: right;\">\n",
       "      <th></th>\n",
       "      <th>1</th>\n",
       "      <th>2</th>\n",
       "      <th>3</th>\n",
       "      <th>4</th>\n",
       "      <th>5</th>\n",
       "      <th>6</th>\n",
       "      <th>7</th>\n",
       "      <th>8</th>\n",
       "      <th>9</th>\n",
       "    </tr>\n",
       "  </thead>\n",
       "  <tbody>\n",
       "    <tr>\n",
       "      <th>Results</th>\n",
       "      <td>9.54</td>\n",
       "      <td>9.36</td>\n",
       "      <td>10.02</td>\n",
       "      <td>9.87</td>\n",
       "      <td>9.98</td>\n",
       "      <td>9.86</td>\n",
       "      <td>9.86</td>\n",
       "      <td>9.81</td>\n",
       "      <td>9.79</td>\n",
       "    </tr>\n",
       "    <tr>\n",
       "      <th>Uncertainty</th>\n",
       "      <td>0.15</td>\n",
       "      <td>0.10</td>\n",
       "      <td>0.11</td>\n",
       "      <td>0.08</td>\n",
       "      <td>0.14</td>\n",
       "      <td>0.06</td>\n",
       "      <td>0.03</td>\n",
       "      <td>0.13</td>\n",
       "      <td>0.04</td>\n",
       "    </tr>\n",
       "  </tbody>\n",
       "</table>\n",
       "</div>"
      ],
      "text/plain": [
       "                1     2      3     4     5     6     7     8     9\n",
       "Results      9.54  9.36  10.02  9.87  9.98  9.86  9.86  9.81  9.79\n",
       "Uncertainty  0.15  0.10   0.11  0.08  0.14  0.06  0.03  0.13  0.04"
      ]
     },
     "execution_count": 3,
     "metadata": {},
     "output_type": "execute_result"
    }
   ],
   "source": [
    "data_columns = ['1', '2', '3', '4', '5', '6', '7', '8', '9']\n",
    "data_rows    = ['Results', 'Uncertainty']\n",
    "data         = [[9.54, 9.36, 10.02, 9.87, 9.98, 9.86, 9.86, 9.81, 9.79],\n",
    "                [0.15, 0.10, 0.11,  0.08, 0.14, 0.06, 0.03, 0.13, 0.04]]\n",
    "df_data = pd.DataFrame(data = data, index = data_rows, columns = data_columns) #dataframe with data\n",
    "df_data\n"
   ]
  },
  {
   "cell_type": "code",
   "execution_count": 9,
   "id": "f1a58437",
   "metadata": {},
   "outputs": [],
   "source": [
    "def gauss(x, mu, sigma):  #gaussian dist.\n",
    "    return 1.0/(sigma * np.sqrt(2*np.pi)) * np.exp(-0.5 * (x - mu)**2 / sigma**2)\n",
    "\n",
    "def fit_func(x, Ngauss, mu, sigma): #function to fit\n",
    "    return Ngauss * binwidth * gauss(x, mu, sigma)\n",
    "\n",
    "def z_score(x, mu, sigma):\n",
    "    return (x - mu)/sigma\n",
    "    \n",
    "def chi2(Ngauss, mu, sigma):  #own chi2 calc\n",
    "    y_fit = fit_func(x_test,Ngauss, mu, sigma)\n",
    "    chi2  = np.sum(((y_test - y_fit) / ey_test)**2)\n",
    "    return chi2"
   ]
  },
  {
   "cell_type": "code",
   "execution_count": 5,
   "id": "ac9a27f6",
   "metadata": {},
   "outputs": [
    {
     "name": "stdout",
     "output_type": "stream",
     "text": [
      "Assuming indipendent measurements the best estimate of g is g = 9.7742 +- 0.0700\n"
     ]
    },
    {
     "name": "stderr",
     "output_type": "stream",
     "text": [
      "<ipython-input-5-2958e361f4bd>:18: InitialParamWarning: errordef is not given, defaults to 1.\n",
      "  minuit_chi2 = Minuit(chi2, Ngauss = Nbins, mu = g_wavg, sigma = g_std)\n"
     ]
    },
    {
     "data": {
      "text/html": [
       "<table>\n",
       "    <tr>\n",
       "        <td colspan=\"2\" style=\"text-align:left\" title=\"Minimum value of function\"> FCN = 0.4477 </td>\n",
       "        <td colspan=\"3\" style=\"text-align:center\" title=\"No. of function evaluations in last call and total number\"> Nfcn = 131 (131 total) </td>\n",
       "    </tr>\n",
       "    <tr>\n",
       "        <td colspan=\"2\" style=\"text-align:left\" title=\"Estimated distance to minimum and goal\"> EDM = 1.41e-06 (Goal: 0.0002) </td>\n",
       "        <td colspan=\"3\" style=\"text-align:center\" title=\"No. of gradient evaluations in last call and total number\">  </td>\n",
       "    </tr>\n",
       "    <tr>\n",
       "        <td style=\"text-align:center;background-color:#92CCA6;color:black\"> Valid Minimum </td>\n",
       "        <td style=\"text-align:center;background-color:#92CCA6;color:black\"> Valid Parameters </td>\n",
       "        <td colspan=\"3\" style=\"text-align:center;background-color:#92CCA6;color:black\"> No Parameters at limit </td>\n",
       "    </tr>\n",
       "    <tr>\n",
       "        <td colspan=\"2\" style=\"text-align:center;background-color:#92CCA6;color:black\"> Below EDM threshold (goal x 10) </td>\n",
       "        <td colspan=\"3\" style=\"text-align:center;background-color:#92CCA6;color:black\"> Below call limit </td>\n",
       "    </tr>\n",
       "    <tr>\n",
       "        <td style=\"text-align:center;background-color:#92CCA6;color:black\"> Hesse ok </td>\n",
       "        <td style=\"text-align:center;background-color:#92CCA6;color:black\"> Has Covariance </td>\n",
       "        <td style=\"text-align:center;background-color:#92CCA6;color:black\" title=\"Is covariance matrix accurate?\"> Accurate </td>\n",
       "        <td style=\"text-align:center;background-color:#92CCA6;color:black\" title=\"Is covariance matrix positive definite?\"> Pos. def. </td>\n",
       "        <td style=\"text-align:center;background-color:#92CCA6;color:black\" title=\"Was positive definiteness enforced by Minuit?\"> Not forced </td>\n",
       "    </tr>\n",
       "</table><table>\n",
       "    <tr>\n",
       "        <td></td>\n",
       "        <th title=\"Variable name\"> Name </th>\n",
       "        <th title=\"Value of parameter\"> Value </th>\n",
       "        <th title=\"Hesse error\"> Hesse Error </th>\n",
       "        <th title=\"Minos lower error\"> Minos Error- </th>\n",
       "        <th title=\"Minos upper error\"> Minos Error+ </th>\n",
       "        <th title=\"Lower limit of the parameter\"> Limit- </th>\n",
       "        <th title=\"Upper limit of the parameter\"> Limit+ </th>\n",
       "        <th title=\"Is the parameter fixed in the fit\"> Fixed </th>\n",
       "    </tr>\n",
       "    <tr>\n",
       "        <th> 0 </th>\n",
       "        <td> Ngauss </td>\n",
       "        <td> 0.08e3 </td>\n",
       "        <td> 0.30e3 </td>\n",
       "        <td>  </td>\n",
       "        <td>  </td>\n",
       "        <td>  </td>\n",
       "        <td>  </td>\n",
       "        <td>  </td>\n",
       "    </tr>\n",
       "    <tr>\n",
       "        <th> 1 </th>\n",
       "        <td> mu </td>\n",
       "        <td> 9.8 </td>\n",
       "        <td> 0.9 </td>\n",
       "        <td>  </td>\n",
       "        <td>  </td>\n",
       "        <td>  </td>\n",
       "        <td>  </td>\n",
       "        <td>  </td>\n",
       "    </tr>\n",
       "    <tr>\n",
       "        <th> 2 </th>\n",
       "        <td> sigma </td>\n",
       "        <td> 0.7 </td>\n",
       "        <td> 2.8 </td>\n",
       "        <td>  </td>\n",
       "        <td>  </td>\n",
       "        <td>  </td>\n",
       "        <td>  </td>\n",
       "        <td>  </td>\n",
       "    </tr>\n",
       "</table>"
      ],
      "text/plain": [
       "┌──────────────────────────────────┬──────────────────────────────────────┐\n",
       "│ FCN = 0.4477                     │        Nfcn = 131 (131 total)        │\n",
       "│ EDM = 1.41e-06 (Goal: 0.0002)    │                                      │\n",
       "├───────────────┬──────────────────┼──────────────────────────────────────┤\n",
       "│ Valid Minimum │ Valid Parameters │        No Parameters at limit        │\n",
       "├───────────────┴──────────────────┼──────────────────────────────────────┤\n",
       "│ Below EDM threshold (goal x 10)  │           Below call limit           │\n",
       "├───────────────┬──────────────────┼───────────┬─────────────┬────────────┤\n",
       "│   Hesse ok    │  Has Covariance  │ Accurate  │  Pos. def.  │ Not forced │\n",
       "└───────────────┴──────────────────┴───────────┴─────────────┴────────────┘\n",
       "┌───┬────────┬───────────┬───────────┬────────────┬────────────┬─────────┬─────────┬───────┐\n",
       "│   │ Name   │   Value   │ Hesse Err │ Minos Err- │ Minos Err+ │ Limit-  │ Limit+  │ Fixed │\n",
       "├───┼────────┼───────────┼───────────┼────────────┼────────────┼─────────┼─────────┼───────┤\n",
       "│ 0 │ Ngauss │  0.08e3   │  0.30e3   │            │            │         │         │       │\n",
       "│ 1 │ mu     │    9.8    │    0.9    │            │            │         │         │       │\n",
       "│ 2 │ sigma  │    0.7    │    2.8    │            │            │         │         │       │\n",
       "└───┴────────┴───────────┴───────────┴────────────┴────────────┴─────────┴─────────┴───────┘"
      ]
     },
     "execution_count": 5,
     "metadata": {},
     "output_type": "execute_result"
    }
   ],
   "source": [
    "counts, bin_edges = np.histogram(data[0], bins = Nbins, range = (xmin, xmax))\n",
    "#Histogram values(almost the same as plt.hist)\n",
    "x_test  = (bin_edges[1:][counts>0] + bin_edges[:-1][counts>0])/2    #histogram, binning, errors\n",
    "y_test  = counts[counts>0]\n",
    "ey_test = np.sqrt(y_test)\n",
    "\n",
    "student = [1, 2, 3, 4, 5, 6, 7, 8, 9]\n",
    "xaxis   = np.linspace(9, 11, 100)\n",
    "\n",
    "g_avg  = np.average(data[0])\n",
    "g_wavg = np.average(data[0], weights = data[1]) #weighted average=best estimate of g\n",
    "g_std  = np.std(data[0], ddof =1)\n",
    "g_err  = g_std/np.sqrt(len(data[0]))   #best estimate of the uncertainty\n",
    "print(f'Assuming indipendent measurements the best estimate of g is g = {g_wavg:.4f} +- {g_err:.4f}')\n",
    "\n",
    "residual =[g_avg - data[0]]  \n",
    "#Minuit fitting\n",
    "minuit_chi2 = Minuit(chi2, Ngauss = Nbins, mu = g_wavg, sigma = g_std)\n",
    "minuit_chi2.errordef = 1\n",
    "minuit_chi2.migrad()"
   ]
  },
  {
   "cell_type": "code",
   "execution_count": 10,
   "id": "85320b02",
   "metadata": {},
   "outputs": [
    {
     "name": "stdout",
     "output_type": "stream",
     "text": [
      "Fit value of Ngauss = 83.5776 +- 305.2221\n",
      "Fit value of mu = 9.7512 +- 0.9135\n",
      "Fit value of sigma = 0.6966 +- 2.7897\n",
      "Probability of doing worse P(chi2=0.4477, Ndof=5) = 0.9939\n"
     ]
    }
   ],
   "source": [
    "Ngauss_fit, mu_fit, sigma_fit = minuit_chi2.values[:]\n",
    "for name in minuit_chi2.parameters:\n",
    "    print(\"Fit value of {0} = {1:.4f} +- {2:.4f}\".format(name, minuit_chi2.values[name], minuit_chi2.errors[name]))\n",
    "    \n",
    "Chi2 = minuit_chi2.fmin.fval #get chi2 fit\n",
    "Nvar = minuit_chi2.nfit      #number of variables used in the fit\n",
    "Ndof = len(y_test) - Nvar    #degree.of.freedom\n",
    "\n",
    "Prob = stats.chi2.sf(Chi2, Ndof)\n",
    "print(f'Probability of doing worse P(chi2={Chi2:.4f}, Ndof={Ndof:.0f}) = {Prob:4.4f}')"
   ]
  },
  {
   "cell_type": "code",
   "execution_count": 18,
   "id": "e47096bf",
   "metadata": {},
   "outputs": [
    {
     "name": "stdout",
     "output_type": "stream",
     "text": [
      " Number of RMSE away from 9.7512 : [-0.30319927615504016, -0.5615915284727743, 0.3858467300255858, 0.17051985309413986, 0.3284262295105349, 0.15616472796537714, 0.15616472796537714, 0.08438910232156353, 0.05567885206403554]\n",
      " The farest away are -0.5616 and 0.3858\n",
      "[0.3808690003065974, 0.28719717680281837, 0.6501949077487899, 0.5676993387548882, 0.6287052932101653, 0.5620484107065634, 0.5620484107065634, 0.5336264642665245, 0.5222011765145512]\n"
     ]
    }
   ],
   "source": [
    "z_set  = []\n",
    "P_Less = []\n",
    "for x in data[0]:\n",
    "    z = z_score(x, mu_fit, sigma_fit)\n",
    "    z_set.append(z)\n",
    "    P_less = stats.norm.cdf(z)\n",
    "    P_Less.append(P_less)\n",
    "    \n",
    "print(f' Number of RMSE away from {mu_fit:.4f} : {z_set}') #not more than half a sigma away...everyone is ok i guess\n",
    "print(f' The farest away are {z_set[1]:.4f} and {z_set[2]:.4f}')\n",
    "#print(P_Less)\n",
    "\n"
   ]
  },
  {
   "cell_type": "code",
   "execution_count": 23,
   "id": "619c03ad",
   "metadata": {},
   "outputs": [
    {
     "name": "stdout",
     "output_type": "stream",
     "text": [
      "The estimated value is -645.8674 real-sigma(=0.0001) away from the real value of g = 9.8158\n",
      "The real value of g is 0.0927 sigma away from the best estimated value of g = 9.751213\n"
     ]
    }
   ],
   "source": [
    "g_real  = 9.8158\n",
    "sg_real = 0.0001\n",
    "\n",
    "agreement = z_score(mu_fit, g_real, sg_real)     #fit value wrt the real\n",
    "Inv_agree = z_score(g_real, mu_fit, sigma_fit)   #real val wrt the fit\n",
    "print(f'The estimated value is {agreement:.4f} real-sigma(={sg_real}) away from the real value of g = {g_real}')\n",
    "print(f'The real value of g is {Inv_agree:.4f} sigma away from the best estimated value of g = {mu_fit:4f}')\n",
    "#The best estimate si more than 600 sigma away from the real values, that is due to the haigh precision in the error of the real value\n",
    "#and the poor dataset to begin with, on the other hand the real value is less than 0.1 sigma away from my estimate wich has a greater std"
   ]
  },
  {
   "cell_type": "code",
   "execution_count": null,
   "id": "c889d424",
   "metadata": {},
   "outputs": [],
   "source": [
    "fig, (ax, ax1, ax2) = plt.subplots(nrows = 3, ncols = 1)\n",
    "hist = ax.hist(data[0], bins = Nbins, range=(xmin, xmax))\n",
    "ax.errorbar(x_test, y_test, yerr=ey_test, fmt = '.', label='Values counts and error on bin')\n",
    "ax.plot(xaxis, gauss(xaxis, g_wavg, g_std))\n",
    "text = ax.set(xlabel = 'Values of g', ylabel = 'Counts', xlim=(9.0, 10.5))\n",
    "\n",
    "\n",
    "ax1.errorbar(student, data[0], yerr = data[1], fmt ='.k', label='Measured value wiith error')\n",
    "ax1.plot(student, [g_avg]*len(data[0]), '-', label='Mean value of g')\n",
    "ax1.set(xlabel='Student', ylabel='Value of g')\n",
    "\n",
    "hist2 = ax2.hist(residual)\n",
    "\n",
    "ax.legend(loc = 'upper left')\n",
    "ax1.legend(loc='best')"
   ]
  },
  {
   "cell_type": "code",
   "execution_count": null,
   "id": "82eeb774",
   "metadata": {},
   "outputs": [],
   "source": []
  }
 ],
 "metadata": {
  "kernelspec": {
   "display_name": "Python 3",
   "language": "python",
   "name": "python3"
  },
  "language_info": {
   "codemirror_mode": {
    "name": "ipython",
    "version": 3
   },
   "file_extension": ".py",
   "mimetype": "text/x-python",
   "name": "python",
   "nbconvert_exporter": "python",
   "pygments_lexer": "ipython3",
   "version": "3.8.8"
  }
 },
 "nbformat": 4,
 "nbformat_minor": 5
}
