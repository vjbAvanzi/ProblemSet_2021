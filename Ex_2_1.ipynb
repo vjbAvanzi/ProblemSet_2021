{
 "cells": [
  {
   "cell_type": "code",
   "execution_count": 4,
   "id": "7259c7b5",
   "metadata": {},
   "outputs": [],
   "source": [
    "from sympy import *\n",
    "from IPython.core.display import Latex"
   ]
  },
  {
   "cell_type": "code",
   "execution_count": 5,
   "id": "9354f824",
   "metadata": {},
   "outputs": [],
   "source": [
    "def lprint(*args, **kwargs):\n",
    "    display(Latex('$$'+ ' '.join(args) + '$$'), **kwargs)"
   ]
  },
  {
   "cell_type": "code",
   "execution_count": 6,
   "id": "1e2ac8fa",
   "metadata": {},
   "outputs": [
    {
     "data": {
      "text/latex": [
       "$$y = \\frac{1}{x^{2} + 1}$$"
      ],
      "text/plain": [
       "<IPython.core.display.Latex object>"
      ]
     },
     "metadata": {},
     "output_type": "display_data"
    },
    {
     "data": {
      "text/latex": [
       "$$\\sigma_{y} = 2 \\sqrt{\\frac{\\sigma_{x}^{2} x^{2}}{\\left(x^{2} + 1\\right)^{4}}}$$"
      ],
      "text/plain": [
       "<IPython.core.display.Latex object>"
      ]
     },
     "metadata": {},
     "output_type": "display_data"
    },
    {
     "data": {
      "text/latex": [
       "$$z = \\frac{1}{\\left(1 - x\\right)^{2}}$$"
      ],
      "text/plain": [
       "<IPython.core.display.Latex object>"
      ]
     },
     "metadata": {},
     "output_type": "display_data"
    },
    {
     "data": {
      "text/latex": [
       "$$\\sigma_{z} = 2 \\sqrt{\\frac{\\sigma_{x}^{2}}{\\left(1 - x\\right)^{6}}}$$"
      ],
      "text/plain": [
       "<IPython.core.display.Latex object>"
      ]
     },
     "metadata": {},
     "output_type": "display_data"
    },
    {
     "data": {
      "text/latex": [
       "$$y(x = 1.96 \\pm 0.03) = 0.20654 \\pm 0.00502$$"
      ],
      "text/plain": [
       "<IPython.core.display.Latex object>"
      ]
     },
     "metadata": {},
     "output_type": "display_data"
    },
    {
     "data": {
      "text/latex": [
       "$$z(x = 1.96 \\pm 0.03) = 1.08507 \\pm 0.06782$$"
      ],
      "text/plain": [
       "<IPython.core.display.Latex object>"
      ]
     },
     "metadata": {},
     "output_type": "display_data"
    },
    {
     "data": {
      "text/latex": [
       "$$y(x = 0.96 \\pm 0.03) = 0.52040 \\pm 0.01560$$"
      ],
      "text/plain": [
       "<IPython.core.display.Latex object>"
      ]
     },
     "metadata": {},
     "output_type": "display_data"
    },
    {
     "data": {
      "text/latex": [
       "$$z(x = 0.96 \\pm 0.03) = 625.00000 \\pm 937.50000$$"
      ],
      "text/plain": [
       "<IPython.core.display.Latex object>"
      ]
     },
     "metadata": {},
     "output_type": "display_data"
    }
   ],
   "source": [
    "x_1     = 1.96\n",
    "x_2     = 0.96\n",
    "x_arr   = [x_1, x_2]\n",
    "err_x   = 0.03\n",
    "\n",
    "#Define variables\n",
    "x, y, z    = symbols(\"x, y, z\")\n",
    "dx, dy, dz = symbols(\"sigma_x, sigma_y, sigma_z\")\n",
    "\n",
    "#Defne function and error + turn expression in numerical function(lambdify) + lprint\n",
    "y   = (1 + x**2)**(-1)\n",
    "dy  = sqrt((y.diff(x) * dx)**2)\n",
    "fy  = lambdify((x), y)\n",
    "fdy = lambdify((x, dx), dy)\n",
    "lprint(latex(Eq(symbols('y'), y)))\n",
    "lprint(latex(Eq(symbols('sigma_y'), dy)))\n",
    "\n",
    "z   = (1 - x)**(-2)\n",
    "dz  = sqrt((z.diff(x) * dx)**2)\n",
    "fz  = lambdify((x), z)\n",
    "fdz = lambdify((x, dx), dz)\n",
    "lprint(latex(Eq(symbols('z'), z)))\n",
    "lprint(latex(Eq(symbols('sigma_z'), dz)))\n",
    "\n",
    "#Assign values\n",
    "for x in x_arr:\n",
    "    vx   = x\n",
    "    vdx  = err_x\n",
    "\n",
    "#Numerically evaluate expressions\n",
    "    vy   = fy(vx)\n",
    "    vdy  = fdy(vx, vdx)\n",
    "\n",
    "    vz   = fz(vx)\n",
    "    vdz  = fdz(vx, vdx)\n",
    "\n",
    "    lprint(f'y(x = {x} \\pm {err_x}) = {vy:.5f} \\pm {vdy:.5f}')\n",
    "    lprint(f'z(x = {x} \\pm {err_x}) = {vz:.5f} \\pm {vdz:.5f}')\n",
    "\n",
    "\n",
    "    \n"
   ]
  },
  {
   "cell_type": "code",
   "execution_count": null,
   "id": "9c682483",
   "metadata": {},
   "outputs": [],
   "source": []
  }
 ],
 "metadata": {
  "kernelspec": {
   "display_name": "Python 3",
   "language": "python",
   "name": "python3"
  },
  "language_info": {
   "codemirror_mode": {
    "name": "ipython",
    "version": 3
   },
   "file_extension": ".py",
   "mimetype": "text/x-python",
   "name": "python",
   "nbconvert_exporter": "python",
   "pygments_lexer": "ipython3",
   "version": "3.8.8"
  }
 },
 "nbformat": 4,
 "nbformat_minor": 5
}
